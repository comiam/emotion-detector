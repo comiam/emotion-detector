{
 "cells": [
  {
   "cell_type": "code",
   "execution_count": null,
   "id": "initial_id",
   "metadata": {
    "collapsed": true
   },
   "outputs": [],
   "source": [
    "import numpy as np\n",
    "import pandas as pd\n",
    "import matplotlib.pyplot as plt\n",
    "import seaborn as sns\n",
    "from gensim.models import Word2Vec\n",
    "from sklearn.model_selection import train_test_split\n",
    "from sklearn.neural_network import MLPClassifier\n",
    "from sklearn.preprocessing import StandardScaler\n",
    "from sklearn.decomposition import PCA"
   ]
  },
  {
   "cell_type": "code",
   "outputs": [],
   "source": [
    "# Загрузка данных\n",
    "df = pd.read_csv('comments.csv')\n",
    "df"
   ],
   "metadata": {
    "collapsed": false
   },
   "id": "5f0b22bc239ddfb9",
   "execution_count": null
  },
  {
   "cell_type": "code",
   "outputs": [],
   "source": [
    "# Визуализация распределения значений предикторов\n",
    "fig, axes = plt.subplots(nrows=1, ncols=2, figsize=(15, 5))\n",
    "df['Likes'].plot(kind='hist', bins=2, ax=axes[0], title='Likes Distribution')\n",
    "df['Sentiment'].plot(kind='hist', ax=axes[1], title='Sentiment Distribution')\n",
    "plt.show()"
   ],
   "metadata": {
    "collapsed": false
   },
   "id": "aeb0e4d144be9e00",
   "execution_count": null
  },
  {
   "cell_type": "code",
   "outputs": [],
   "source": [
    "# Векторизация текста с использованием Word2Vec\n",
    "comments = [str(comment).split() for comment in df['Comment']]\n",
    "w2v_model = Word2Vec(sentences=comments, vector_size=100, window=5, min_count=1, workers=4)"
   ],
   "metadata": {
    "collapsed": false
   },
   "id": "233d6bc09bb99393",
   "execution_count": null
  },
  {
   "cell_type": "code",
   "outputs": [],
   "source": [
    "w2v_vectors = [w2v_model.wv[comment].mean(axis=0) for comment in comments]\n",
    "w2v_vectors"
   ],
   "metadata": {
    "collapsed": false
   },
   "id": "ad87c04648547a31",
   "execution_count": null
  },
  {
   "cell_type": "code",
   "outputs": [],
   "source": [
    "# Добавление векторов к данным\n",
    "w2v_df = pd.DataFrame(w2v_vectors, columns=[f'w2v_{i}' for i in range(100)])\n",
    "df = pd.concat([df, w2v_df], axis=1)"
   ],
   "metadata": {
    "collapsed": false
   },
   "id": "2ef6c46cd844d58f",
   "execution_count": null
  },
  {
   "cell_type": "code",
   "outputs": [],
   "source": [
    "df_cleared = df.drop([\"Unnamed: 0\", \"Video ID\", \"Comment\"], axis=1)"
   ],
   "metadata": {
    "collapsed": false
   },
   "id": "77a63d3e21971469",
   "execution_count": null
  },
  {
   "cell_type": "code",
   "outputs": [],
   "source": [
    "# Разделение данных на обучающий и тестовый наборы\n",
    "X = df_cleared.drop(['Sentiment'], axis=1)\n",
    "y = df_cleared['Sentiment']\n",
    "X_train, X_test, y_train, y_test = train_test_split(X, y, test_size=0.2, random_state=42)\n",
    "\n",
    "# Стандартизация данных перед применением PCA\n",
    "scaler = StandardScaler()\n",
    "X_train_scaled = scaler.fit_transform(X_train)\n",
    "\n",
    "# Применение PCA\n",
    "pca = PCA(n_components=2)\n",
    "X_pca = pca.fit_transform(X_train_scaled)\n",
    "\n",
    "# Создание DataFrame для визуализации\n",
    "pca_df = pd.DataFrame(data=X_pca, columns=['PC1', 'PC2'])\n",
    "pca_df['Sentiment'] = y_train.values\n",
    "\n",
    "# Визуализация PCA пространства с окраской по Sentiment\n",
    "plt.figure(figsize=(10, 8))\n",
    "sns.scatterplot(x='PC1', y='PC2', hue='Sentiment', data=pca_df, palette='viridis', s=50, alpha=0.8)\n",
    "plt.title('PCA of w2v Embeddings with Sentiment Coloring')\n",
    "plt.legend(title='Sentiment')\n",
    "plt.show()"
   ],
   "metadata": {
    "collapsed": false
   },
   "id": "ceb33ee9e44b0222",
   "execution_count": null
  },
  {
   "cell_type": "code",
   "outputs": [],
   "source": [
    "pca_df = pca_df[pca_df['Sentiment'] != 2.0]\n",
    "# Визуализация PCA пространства с окраской по Sentiment\n",
    "plt.figure(figsize=(10, 8))\n",
    "sns.scatterplot(x='PC1', y='PC2', hue='Sentiment', data=pca_df, palette='viridis', s=50, alpha=0.8)\n",
    "plt.title('PCA of w2v Embeddings with Sentiment Coloring without neutral')\n",
    "plt.legend(title='Sentiment')\n",
    "plt.show()"
   ],
   "metadata": {
    "collapsed": false
   },
   "id": "4f48f5133bd7f223",
   "execution_count": null
  }
 ],
 "metadata": {
  "kernelspec": {
   "display_name": "Python 3",
   "language": "python",
   "name": "python3"
  },
  "language_info": {
   "codemirror_mode": {
    "name": "ipython",
    "version": 2
   },
   "file_extension": ".py",
   "mimetype": "text/x-python",
   "name": "python",
   "nbconvert_exporter": "python",
   "pygments_lexer": "ipython2",
   "version": "2.7.6"
  }
 },
 "nbformat": 4,
 "nbformat_minor": 5
}
